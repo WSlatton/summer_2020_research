{
 "cells": [
  {
   "cell_type": "code",
   "execution_count": 1,
   "metadata": {},
   "outputs": [],
   "source": [
    "from poly import *\n"
   ]
  },
  {
   "cell_type": "code",
   "execution_count": 4,
   "metadata": {},
   "outputs": [
    {
     "data": {
      "text/latex": [
       "$10x^{5}z^{5} + 10y^{10} - 13xy^{2}z^{3} + 3xz^{2} + 2x^{2} - 34xz + x - \\frac{1}{3}x + 3y$"
      ],
      "text/plain": [
       "10x^5z^5 + 10y^10 - 13xy^2z^3 + 3xz^2 + 2x^2 - 34xz + x + (-1 / 3)x + 3y"
      ]
     },
     "execution_count": 4,
     "metadata": {},
     "output_type": "execute_result"
    }
   ],
   "source": [
    "R = PolyRing(['x', 'y', 'z'], field=RationalField, monomial_order=GrlexOrder)\n",
    "p = R('-13xy^2z^3-34xz-(-3)z^2x + x + 3y + 0y - (1/3)x + 2x^2 + 10y^10 + 10x^5z^5')\n",
    "p"
   ]
  },
  {
   "cell_type": "code",
   "execution_count": null,
   "metadata": {},
   "outputs": [],
   "source": []
  },
  {
   "cell_type": "code",
   "execution_count": null,
   "metadata": {},
   "outputs": [],
   "source": []
  }
 ],
 "metadata": {
  "kernelspec": {
   "display_name": "Python 3",
   "language": "python",
   "name": "python3"
  },
  "language_info": {
   "codemirror_mode": {
    "name": "ipython",
    "version": 3
   },
   "file_extension": ".py",
   "mimetype": "text/x-python",
   "name": "python",
   "nbconvert_exporter": "python",
   "pygments_lexer": "ipython3",
   "version": "3.8.3"
  }
 },
 "nbformat": 4,
 "nbformat_minor": 4
}
