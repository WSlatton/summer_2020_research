{
 "cells": [
  {
   "cell_type": "code",
   "execution_count": 1,
   "metadata": {},
   "outputs": [
    {
     "data": {
      "text/latex": [
       "$4y + \\frac{5}{3}x - 34xz + 2x^{2} + 3xz^{2} - 13xy^{2}z^{3} + 10x^{5}z^{5} + 10y^{10}$"
      ],
      "text/plain": [
       "4y + (5 / 3)x - 34xz + 2x^2 + 3xz^2 - 13xy^2z^3 + 10x^5z^5 + 10y^10"
      ]
     },
     "execution_count": 1,
     "metadata": {},
     "output_type": "execute_result"
    }
   ],
   "source": [
    "from poly import *\n",
    "R = PolyRing(['x', 'y', 'z'], field=RationalField, monomial_order=GrevlexOrder)\n",
    "p = R('-13xy^2z^3-34xz-(-3)z^2x + x + 3y + 0y - (1/3)x + 2x^2 + 10y^10 + 10x^5z^5')\n",
    "q = R('x+y')\n",
    "p+q"
   ]
  }
 ],
 "metadata": {
  "kernelspec": {
   "display_name": "Python 3",
   "language": "python",
   "name": "python3"
  },
  "language_info": {
   "codemirror_mode": {
    "name": "ipython",
    "version": 3
   },
   "file_extension": ".py",
   "mimetype": "text/x-python",
   "name": "python",
   "nbconvert_exporter": "python",
   "pygments_lexer": "ipython3",
   "version": "3.8.3"
  }
 },
 "nbformat": 4,
 "nbformat_minor": 4
}
