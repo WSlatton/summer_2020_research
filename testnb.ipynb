{
 "cells": [
  {
   "cell_type": "code",
   "execution_count": 12,
   "metadata": {},
   "outputs": [
    {
     "data": {
      "text/plain": [
       "True"
      ]
     },
     "execution_count": 12,
     "metadata": {},
     "output_type": "execute_result"
    }
   ],
   "source": [
    "from poly import *\n",
    "\n",
    "R = PolyRing(['x', 'y', 'z'], field=RationalField, monomial_order=GrlexOrder)\n",
    "f = R('x^7y^2+x^3y^2-y+1')\n",
    "g1 = R('xy^2-x')\n",
    "g2 = R('x-y^3')\n",
    "\n",
    "qs, r = f/[g1,g2]\n",
    "qs[0] * g1 + qs[1] * g2 + r == f"
   ]
  },
  {
   "cell_type": "code",
   "execution_count": null,
   "metadata": {},
   "outputs": [],
   "source": []
  }
 ],
 "metadata": {
  "kernelspec": {
   "display_name": "Python 3",
   "language": "python",
   "name": "python3"
  },
  "language_info": {
   "codemirror_mode": {
    "name": "ipython",
    "version": 3
   },
   "file_extension": ".py",
   "mimetype": "text/x-python",
   "name": "python",
   "nbconvert_exporter": "python",
   "pygments_lexer": "ipython3",
   "version": "3.8.3"
  }
 },
 "nbformat": 4,
 "nbformat_minor": 4
}
