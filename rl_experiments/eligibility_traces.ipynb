{
 "cells": [
  {
   "cell_type": "markdown",
   "metadata": {},
   "source": [
    "# Sutton Chapter 12: Eligibility Traces"
   ]
  },
  {
   "cell_type": "markdown",
   "metadata": {},
   "source": [
    "## 12.1 The λ-return with Example 6.2"
   ]
  },
  {
   "cell_type": "code",
   "execution_count": 1,
   "metadata": {},
   "outputs": [],
   "source": [
    "import random\n",
    "\n",
    "class RandomWalk:\n",
    "    def __init__(self, size):\n",
    "        self.size = size\n",
    "        self.start = size // 2 + 1\n",
    "        self.state = self.start\n",
    "    \n",
    "    def reset(self):\n",
    "        self.state = self.start\n",
    "        return self.state\n",
    "    \n",
    "    def step(self):\n",
    "        \"\"\"Simulate single step of random walk MRP.\n",
    "        Returns state, reward, done.\n",
    "        \"\"\"\n",
    "        direction = random.choice([-1, 1])\n",
    "        self.state += direction\n",
    "        \n",
    "        if self.state == 0:\n",
    "            return self.state, -1, True\n",
    "        elif self.state == self.size + 1:\n",
    "            return self.state, +1, True\n",
    "        else:\n",
    "            return self.state, 0, False"
   ]
  },
  {
   "cell_type": "code",
   "execution_count": 2,
   "metadata": {},
   "outputs": [],
   "source": [
    "size = 19\n",
    "env = RandomWalk(size)\n",
    "\n",
    "def simulate_episode(env):\n",
    "    state = env.reset()\n",
    "    states = [state]\n",
    "    rewards = []\n",
    "    \n",
    "    while True:\n",
    "        state, reward, done = env.step()\n",
    "        states.append(state)\n",
    "        rewards.append(reward)\n",
    "        \n",
    "        if done:\n",
    "            break\n",
    "    \n",
    "    return states, rewards"
   ]
  },
  {
   "cell_type": "code",
   "execution_count": 20,
   "metadata": {},
   "outputs": [],
   "source": [
    "import numpy as np\n",
    "\n",
    "# iterative policy evaluation as baseline for comparison\n",
    "actual_state_values = (size + 2) * [0]\n",
    "is_stable = False\n",
    "\n",
    "while not is_stable:\n",
    "    is_stable = True\n",
    "    \n",
    "    for state in range(1, size + 1):\n",
    "        def r(other_state):\n",
    "            if other_state == 0:\n",
    "                return -1\n",
    "            elif other_state == size + 1:\n",
    "                return 1\n",
    "            else:\n",
    "                return 0\n",
    "            \n",
    "        new_state_value = 0.5 * (r(state - 1) + actual_state_values[state - 1]) + 0.5 * (r(state + 1) + actual_state_values[state + 1])\n",
    "        \n",
    "        if count % 1000 == 999:\n",
    "            print(abs(new_state_value - actual_state_values[state]))\n",
    "        \n",
    "        if abs(new_state_value - actual_state_values[state]) > 1e-5:\n",
    "            is_stable = False\n",
    "            actual_state_values[state] = new_state_value"
   ]
  },
  {
   "cell_type": "code",
   "execution_count": 27,
   "metadata": {},
   "outputs": [],
   "source": [
    "from math import sqrt\n",
    "\n",
    "def rms_error(state_values):\n",
    "    return sqrt(sum([\n",
    "        (state_values[state] - actual_state_values[state]) ** 2\n",
    "        for state in range(1, size + 1)\n",
    "    ]))"
   ]
  },
  {
   "cell_type": "code",
   "execution_count": 30,
   "metadata": {},
   "outputs": [],
   "source": [
    "state_values = (size + 2) * [0]\n",
    "\n",
    "def lambda_return_episode(env, state_values, learning_rate, lambda_value):\n",
    "    states, rewards = simulate_episode(env)\n",
    "    T = len(rewards)\n",
    "    \n",
    "    # G_{t:t+n} in Sutton\n",
    "    def n_step_return(t, n):\n",
    "        return sum(rewards[t:t + n]) + state_values[states[t + n]]\n",
    "    \n",
    "    # G_t in Sutton\n",
    "    def total_return(t):\n",
    "        return sum(rewards[t:])\n",
    "    \n",
    "    # G_t^λ in Sutton\n",
    "    def lambda_return(t, lambda_value):\n",
    "        v = (1 - lambda_value) * sum([\n",
    "            lambda_value ** (n - 1) * n_step_return(t, n)\n",
    "            for n in range(1, T - t)\n",
    "        ]) + lambda_value ** (T - t - 1) * total_return(t)\n",
    "        return v\n",
    "    \n",
    "    for t in range(T):\n",
    "        state = states[t]\n",
    "        state_values[state] = (1 - learning_rate) * state_values[state] + learning_rate * lambda_return(t, lambda_value)\n",
    "        #state_values[state] = (1 - learning_rate) * state_values[state] + learning_rate * total_return(t)\n",
    "    \n",
    "    return state_values\n",
    "\n",
    "def lambda_return(env, state_values, learning_rate, lambda_value, num_episodes = 10):\n",
    "    rms_total = 0\n",
    "    \n",
    "    for epoch in range(num_episodes):\n",
    "        state_values = lambda_return_episode(env, state_values, learning_rate, lambda_value)\n",
    "        rms_total += rms_error(state_values)\n",
    "    \n",
    "    return state_values, rms_total / num_episodes"
   ]
  },
  {
   "cell_type": "code",
   "execution_count": 33,
   "metadata": {},
   "outputs": [],
   "source": [
    "import numpy as np\n",
    "\n",
    "lambda_value = .8\n",
    "xs = np.arange(0, 1, 0.05)\n",
    "ys = [lambda_return(env, (size + 2) * [0], learning_rate, lambda_value)[1] for learning_rate in xs]\n",
    "\n",
    "for j in range(len(xs)):\n",
    "    learning_rate = xs[j]\n",
    "    ys[j] = np.mean([lambda_return(env, (size + 2) * [0], learning_rate, lambda_value)[1] for _ in range(10)])"
   ]
  },
  {
   "cell_type": "code",
   "execution_count": 34,
   "metadata": {},
   "outputs": [
    {
     "data": {
      "text/plain": [
       "[<matplotlib.lines.Line2D at 0x7f28af7e6d00>]"
      ]
     },
     "execution_count": 34,
     "metadata": {},
     "output_type": "execute_result"
    },
    {
     "data": {
      "image/png": "[encoded data removed]",
      "text/plain": [
       "<Figure size 432x288 with 1 Axes>"
      ]
     },
     "metadata": {
      "needs_background": "light"
     },
     "output_type": "display_data"
    }
   ],
   "source": [
    "import matplotlib.pyplot as plt\n",
    "plt.plot(xs, ys)"
   ]
  },
  {
   "cell_type": "markdown",
   "metadata": {},
   "source": [
    "## 12.2 TD(λ)"
   ]
  },
  {
   "cell_type": "code",
   "execution_count": 55,
   "metadata": {},
   "outputs": [],
   "source": [
    "import numpy as np\n",
    "\n",
    "def td_lambda_episode(env, state_values, learning_rate, trace_decay):\n",
    "    state_values = np.array(state_values)\n",
    "    state = env.reset()\n",
    "    d = len(state_values)\n",
    "    z = np.zeros(d)\n",
    "    \n",
    "    while True:\n",
    "        new_state, reward, done = env.step()\n",
    "        v_grad = np.zeros(d)\n",
    "        v_grad[state] = 1\n",
    "        z = trace_decay * z + v_grad\n",
    "        td_error = reward + state_values[new_state] - state_values[state]\n",
    "        state_values += learning_rate * td_error * z\n",
    "        state = new_state\n",
    "        \n",
    "        if done:\n",
    "            break\n",
    "    \n",
    "    return state_values\n",
    "\n",
    "def td_lambda(env, state_values, learning_rate, trace_decay, num_episodes=10):\n",
    "    for epoch in range(num_episodes):\n",
    "        state_values = td_lambda_episode(env, state_values, learning_rate, trace_decay)\n",
    "    \n",
    "    return state_values"
   ]
  },
  {
   "cell_type": "markdown",
   "metadata": {},
   "source": [
    "### Comparison"
   ]
  },
  {
   "cell_type": "code",
   "execution_count": 65,
   "metadata": {},
   "outputs": [
    {
     "name": "stdout",
     "output_type": "stream",
     "text": [
      "104 ms ± 8.71 ms per loop (mean ± std. dev. of 7 runs, 10 loops each)\n",
      "1.2582135766162288\n"
     ]
    }
   ],
   "source": [
    "%timeit state_values = lambda_return(env, np.zeros(size + 2), .4, .8, num_episodes=10)\n",
    "print(rms_error(state_values))"
   ]
  },
  {
   "cell_type": "code",
   "execution_count": 66,
   "metadata": {},
   "outputs": [
    {
     "name": "stdout",
     "output_type": "stream",
     "text": [
      "46.8 ms ± 763 µs per loop (mean ± std. dev. of 7 runs, 10 loops each)\n",
      "1.2582135766162288\n"
     ]
    }
   ],
   "source": [
    "%timeit state_values = td_lambda(env, np.zeros(size + 2), .4, .8, num_episodes=100)\n",
    "print(rms_error(state_values))"
   ]
  }
 ],
 "metadata": {
  "kernelspec": {
   "display_name": "Python 3",
   "language": "python",
   "name": "python3"
  },
  "language_info": {
   "codemirror_mode": {
    "name": "ipython",
    "version": 3
   },
   "file_extension": ".py",
   "mimetype": "text/x-python",
   "name": "python",
   "nbconvert_exporter": "python",
   "pygments_lexer": "ipython3",
   "version": "3.8.5"
  }
 },
 "nbformat": 4,
 "nbformat_minor": 4
}
