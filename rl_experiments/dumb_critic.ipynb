{
 "cells": [
  {
   "cell_type": "code",
   "execution_count": 26,
   "metadata": {},
   "outputs": [],
   "source": [
    "import torch.nn as nn\n",
    "import torch.nn.functional as F\n",
    "import torch\n",
    "import torch.optim as optim\n",
    "from torch.utils.tensorboard import SummaryWriter\n",
    "import gym\n",
    "\n",
    "class CriticNet(nn.Module):\n",
    "    def __init__(self):\n",
    "        super().__init__()\n",
    "        \n",
    "        self.fc1 = nn.Linear(4, 64)\n",
    "        self.fc2 = nn.Linear(64, 32)\n",
    "        self.fc3 = nn.Linear(32, 1)\n",
    "    \n",
    "    def forward(self, x):\n",
    "        x = F.relu(self.fc1(x))\n",
    "        x = F.relu(self.fc2(x))\n",
    "        x = self.fc3(x)\n",
    "        return x\n",
    "\n",
    "critic_net = CriticNet()\n",
    "writer = SummaryWriter()\n",
    "env = gym.make('CartPole-v1')\n",
    "\n",
    "def t(x):\n",
    "    return torch.tensor(x, dtype=torch.float)\n",
    "\n",
    "for episode in range(4000):\n",
    "    previous_state = env.reset()\n",
    "    done = False\n",
    "    critic_net.zero_grad()\n",
    "    \n",
    "    while not done:\n",
    "        action = 0\n",
    "        state, reward, done, _ = env.step(action)\n",
    "        \n",
    "        previous_state_value = critic_net(t(previous_state))\n",
    "        state_value = 0 if done else critic_net(t(state))\n",
    "        td_error = reward + state_value - previous_state_value\n",
    "        previous_state = state\n",
    "        \n",
    "        if done:\n",
    "            writer.add_scalar('critic/td_error', td_error, episode)\n",
    "            \n",
    "        for p in critic_net.parameters():\n",
    "            if p.grad is not None:\n",
    "                p.grad.data *= 0.8\n",
    "            \n",
    "        previous_state_value.backward()\n",
    "            \n",
    "        for p in critic_net.parameters():\n",
    "            p.data += 5e-4 * td_error * p.grad.data\n",
    "\n",
    "writer.close()"
   ]
  }
 ],
 "metadata": {
  "kernelspec": {
   "display_name": "Python 3",
   "language": "python",
   "name": "python3"
  },
  "language_info": {
   "codemirror_mode": {
    "name": "ipython",
    "version": 3
   },
   "file_extension": ".py",
   "mimetype": "text/x-python",
   "name": "python",
   "nbconvert_exporter": "python",
   "pygments_lexer": "ipython3",
   "version": "3.8.5"
  }
 },
 "nbformat": 4,
 "nbformat_minor": 4
}
