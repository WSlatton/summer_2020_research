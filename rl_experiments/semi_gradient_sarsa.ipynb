{
 "cells": [
  {
   "cell_type": "markdown",
   "metadata": {},
   "source": [
    "# Semi-gradient SARSA for CartPole-v1 Task"
   ]
  },
  {
   "cell_type": "code",
   "execution_count": 118,
   "metadata": {},
   "outputs": [],
   "source": [
    "import torch.nn.functional as F\n",
    "import torch.nn as nn\n",
    "import torch\n",
    "\n",
    "class Net(nn.Module):\n",
    "    def __init__(self):\n",
    "        super(Net, self).__init__()\n",
    "        # 4-dimensional state + 1-dimensional action space\n",
    "        self.fc1 = nn.Linear(5, 50)\n",
    "        self.fc2 = nn.Linear(50, 50)\n",
    "        self.fc3 = nn.Linear(50, 50)\n",
    "        self.fc4 = nn.Linear(50, 1)\n",
    "        \n",
    "    def forward(self, x):\n",
    "        x = F.relu(self.fc1(x))\n",
    "        x = F.relu(self.fc2(x))\n",
    "        x = F.relu(self.fc3(x))\n",
    "        x = F.relu(self.fc4(x))\n",
    "        return x"
   ]
  },
  {
   "cell_type": "markdown",
   "metadata": {},
   "source": [
    "### Testing Net"
   ]
  },
  {
   "cell_type": "code",
   "execution_count": 119,
   "metadata": {},
   "outputs": [],
   "source": [
    "device = torch.device('cuda:0')\n",
    "f = lambda x: torch.sqrt(torch.sum(x * x))\n",
    "n = 1000\n",
    "train = torch.randint(0, 10, (n, 5), dtype=torch.float, device=device)\n",
    "train_answers = [f(x) for x in train]\n",
    "test = torch.randint(0, 10, (n, 5), dtype=torch.float, device=device)\n",
    "test_answers = [f(x) for x in test]\n",
    "\n",
    "net = Net().to(device)\n",
    "learning_rate = 0.001\n",
    "\n",
    "for epoch in range(20):\n",
    "    for x, y in zip(train, train_answers):\n",
    "        net.zero_grad()\n",
    "        actual_y = net(x)\n",
    "        actual_y.backward()\n",
    "        for f in net.parameters():\n",
    "            f.data -= learning_rate * (actual_y.item() - y) * f.grad.data"
   ]
  },
  {
   "cell_type": "code",
   "execution_count": 120,
   "metadata": {},
   "outputs": [
    {
     "name": "stdout",
     "output_type": "stream",
     "text": [
      "tensor(0.0101, device='cuda:0')\n"
     ]
    }
   ],
   "source": [
    "MSE = 0\n",
    "for x, y in zip(test, test_answers):\n",
    "    actual_y = net(x).item()\n",
    "    MSE += (actual_y - y) ** 2\n",
    "MSE /= n\n",
    "print(MSE)"
   ]
  },
  {
   "cell_type": "code",
   "execution_count": 97,
   "metadata": {},
   "outputs": [
    {
     "data": {
      "text/plain": [
       "tensor([7.4561], device='cuda:0', grad_fn=<ReluBackward0>)"
      ]
     },
     "execution_count": 97,
     "metadata": {},
     "output_type": "execute_result"
    }
   ],
   "source": [
    "net(torch.tensor([1, 2, 3, 4, 5], device=device, dtype=torch.float))"
   ]
  },
  {
   "cell_type": "code",
   "execution_count": 98,
   "metadata": {},
   "outputs": [
    {
     "data": {
      "text/plain": [
       "7.416198487095663"
      ]
     },
     "execution_count": 98,
     "metadata": {},
     "output_type": "execute_result"
    }
   ],
   "source": [
    "np.sqrt(1 + 4 + 9 + 16 + 25)"
   ]
  },
  {
   "cell_type": "code",
   "execution_count": 99,
   "metadata": {},
   "outputs": [],
   "source": [
    "from collections import defaultdict\n",
    "import random\n",
    "import gym\n",
    "import numpy as np\n",
    "\n",
    "env = gym.make('CartPole-v1')\n",
    "epsilon = 0.05\n",
    "learning_rate = 0.001\n",
    "actions = [0, 1]\n",
    "\n",
    "class ActionValueEstimator:\n",
    "    def __init__(self):\n",
    "        self.net = Net()\n",
    "    \n",
    "    def estimate(self, state, action):\n",
    "        value = self.net(self._encode(state, action))\n",
    "        return value.item()\n",
    "    \n",
    "    def update(self, state, action, estimate):\n",
    "        self.net.zero_grad()\n",
    "        value = self.net(self._encode(state, action))\n",
    "        value.backward()\n",
    "        \n",
    "        for f in self.net.parameters():\n",
    "            f.data += learning_rate * (estimate - value.item()) * f.grad.data\n",
    "    \n",
    "    def _encode(self, state, action):\n",
    "        return torch.tensor(np.append(state, action), dtype=torch.float)\n",
    "\n",
    "def train(av_estimator, number_of_episodes):\n",
    "    for _ in range(number_of_episodes):\n",
    "        train_episode(av_estimator)\n",
    "    \n",
    "def train_episode(av_estimator):\n",
    "    state = env.reset()\n",
    "    action = env.action_space.sample()\n",
    "    \n",
    "    while True:\n",
    "        next_state, reward, done, _ = env.step(action)\n",
    "        \n",
    "        if done:\n",
    "            break\n",
    "        \n",
    "        # choose next action epsilon-greedily\n",
    "        next_action = None\n",
    "        if random.random() < epsilon:\n",
    "            next_action = env.action_space.sample()\n",
    "        else:\n",
    "            next_action = max(actions, key=lambda a: av_estimator.estimate(next_state, a))\n",
    "        \n",
    "        av_estimator.update(state, action, reward + av_estimator.estimate(next_state, next_action))\n",
    "        state = next_state\n",
    "        action = next_action"
   ]
  },
  {
   "cell_type": "code",
   "execution_count": 100,
   "metadata": {},
   "outputs": [],
   "source": [
    "av_estimator = ActionValueEstimator()"
   ]
  },
  {
   "cell_type": "code",
   "execution_count": 101,
   "metadata": {},
   "outputs": [],
   "source": [
    "train(av_estimator, 100)"
   ]
  },
  {
   "cell_type": "code",
   "execution_count": 102,
   "metadata": {},
   "outputs": [],
   "source": [
    "def simulate(av_estimator):\n",
    "    state = env.reset()\n",
    "    score = 0\n",
    "    \n",
    "    while True:\n",
    "        env.render()\n",
    "        action = max(actions, key=lambda a: av_estimator.estimate(state, a))\n",
    "        print(av_estimator.estimate(state, 0))\n",
    "        print(av_estimator.estimate(state, 1))\n",
    "        state, _, done, _ = env.step(action)\n",
    "        \n",
    "        if done:\n",
    "            break\n",
    "        \n",
    "        score += 1\n",
    "    \n",
    "    print(f'Score: {score}')\n",
    "    env.close()"
   ]
  },
  {
   "cell_type": "code",
   "execution_count": 104,
   "metadata": {},
   "outputs": [
    {
     "name": "stdout",
     "output_type": "stream",
     "text": [
      "nan\n",
      "nan\n",
      "nan\n",
      "nan\n",
      "nan\n",
      "nan\n",
      "nan\n",
      "nan\n",
      "nan\n",
      "nan\n",
      "nan\n",
      "nan\n",
      "nan\n",
      "nan\n",
      "nan\n",
      "nan\n",
      "nan\n",
      "nan\n",
      "Score: 8\n"
     ]
    }
   ],
   "source": [
    "simulate(av_estimator)"
   ]
  },
  {
   "cell_type": "code",
   "execution_count": 235,
   "metadata": {},
   "outputs": [],
   "source": [
    "env.close()"
   ]
  }
 ],
 "metadata": {
  "kernelspec": {
   "display_name": "Python 3",
   "language": "python",
   "name": "python3"
  },
  "language_info": {
   "codemirror_mode": {
    "name": "ipython",
    "version": 3
   },
   "file_extension": ".py",
   "mimetype": "text/x-python",
   "name": "python",
   "nbconvert_exporter": "python",
   "pygments_lexer": "ipython3",
   "version": "3.8.5"
  }
 },
 "nbformat": 4,
 "nbformat_minor": 4
}
