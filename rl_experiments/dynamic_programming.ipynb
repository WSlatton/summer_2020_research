{
 "cells": [
  {
   "cell_type": "markdown",
   "metadata": {},
   "source": [
    "# Iterative Policy Evaluation"
   ]
  },
  {
   "cell_type": "markdown",
   "metadata": {},
   "source": [
    "### Example 4.1"
   ]
  },
  {
   "cell_type": "code",
   "execution_count": 1,
   "metadata": {},
   "outputs": [
    {
     "name": "stdout",
     "output_type": "stream",
     "text": [
      "  0.00|-13.99|-19.99|-21.99\n",
      "------·------·------·------\n",
      "-13.99|-17.99|-19.99|-19.99\n",
      "------·------·------·------\n",
      "-19.99|-19.99|-17.99|-13.99\n",
      "------·------·------·------\n",
      "-21.99|-19.99|-13.99|  0.00\n"
     ]
    }
   ],
   "source": [
    "def p(s_n, r, s, a):\n",
    "    if r != -1:\n",
    "        return 0\n",
    "    if a == 'right' and s % 4 < 3 and s_n == s + 1:\n",
    "        return 1\n",
    "    if a == 'left' and s % 4 > 0 and s_n == s - 1:\n",
    "        return 1\n",
    "    if a == 'up' and s // 4 > 0 and s_n == s - 4:\n",
    "        return 1\n",
    "    if a == 'down' and s // 4 < 3 and s_n == s + 4:\n",
    "        return 1\n",
    "    if a == 'right' and s % 4 == 3 and s_n == s:\n",
    "        return 1\n",
    "    if a == 'left' and s % 4 == 0 and s_n == s:\n",
    "        return 1\n",
    "    if a == 'up' and s // 4 == 0 and s_n == s:\n",
    "        return 1\n",
    "    if a == 'down' and s // 4 == 3 and s_n == s:\n",
    "        return 1\n",
    "    return 0\n",
    "\n",
    "\n",
    "def π(a, s):\n",
    "    return 0.25\n",
    "\n",
    "\n",
    "V = [0] + 14 * [0] + [0]\n",
    "θ = 0.001\n",
    "\n",
    "nonterminal = list(range(1, 15))\n",
    "terminal = [0, 15]\n",
    "actions = ['left', 'right', 'up', 'down']\n",
    "rewards = [-1]\n",
    "γ = 1\n",
    "\n",
    "Δ = float('inf')\n",
    "while Δ >= θ:\n",
    "    Δ = 0\n",
    "    for s in nonterminal:\n",
    "        v = V[s]\n",
    "        V[s] = sum([\n",
    "            π(a, s) * p(s_n, r, s, a) * (r + γ * V[s_n])\n",
    "            for a in actions for s_n in nonterminal + terminal for r in rewards\n",
    "        ])\n",
    "        Δ = max(Δ, abs(v - V[s]))\n",
    "print('\\n------·------·------·------\\n'.join(['|'.join([f'{V[4 * r + c]:6.2f}' for c in range(4)]) for r in range(4)]))"
   ]
  },
  {
   "cell_type": "markdown",
   "metadata": {},
   "source": [
    "# Policy Iteration"
   ]
  },
  {
   "cell_type": "code",
   "execution_count": 77,
   "metadata": {},
   "outputs": [],
   "source": [
    "map_str = r\"\"\"\n",
    "e..x...\n",
    "..xxx.x\n",
    "x..x...\n",
    ".....x.\n",
    "x......\n",
    "\"\"\"\n",
    "terminal_states = []\n",
    "nonterminal_states = []\n",
    "\n",
    "for y, line in enumerate(map_str.split()):\n",
    "    for x, value in enumerate(line):\n",
    "        if value == 'e':\n",
    "            terminal_states.append((x, y))\n",
    "        elif value == '.':\n",
    "            nonterminal_states.append((x, y))\n",
    "\n",
    "states = terminal_states + nonterminal_states\n",
    "actions = {\n",
    "    'left': (-1, 0),\n",
    "    'right': (1, 0),\n",
    "    'up': (0, 1),\n",
    "    'down': (0, -1)\n",
    "}\n",
    "rewards = [-1]\n",
    "\n",
    "\n",
    "def p(new_state, reward, state, action):\n",
    "    if action not in actions:\n",
    "        return 0\n",
    "    if reward not in rewards:\n",
    "        return 0\n",
    "\n",
    "    delta = actions[action]\n",
    "    moved_state = (state[0] + delta[0], state[1] + delta[1])\n",
    "\n",
    "    if moved_state not in states and new_state == state:\n",
    "        return 1\n",
    "    elif moved_state in states and new_state == moved_state:\n",
    "        return 1\n",
    "    else:\n",
    "        return 0"
   ]
  },
  {
   "cell_type": "code",
   "execution_count": 150,
   "metadata": {},
   "outputs": [],
   "source": [
    "# begin with random policy\n",
    "policy = {state: {action: 0.25 for action in actions} for state in states}\n",
    "initial_value_function = {state: 0 for state in states}\n",
    "\n",
    "\n",
    "def evaluate_policy(policy, initial_value_function, error_tolerance=0.5):\n",
    "    value_function = initial_value_function.copy()\n",
    "    error = float('inf')\n",
    "\n",
    "    while error >= error_tolerance:\n",
    "        error = 0\n",
    "        for state in nonterminal_states:\n",
    "            new_value = 0\n",
    "            for new_state in states:\n",
    "                for action in actions:\n",
    "                    for reward in rewards:\n",
    "                        new_value += policy[state][action] * p(new_state, reward, state, action) * (reward + value_function[new_state])\n",
    "\n",
    "            error = max(error, abs(new_value - value_function[state]))\n",
    "            value_function[state] = new_value\n",
    "\n",
    "    return value_function\n",
    "\n",
    "\n",
    "def improve_policy(policy, initial_value_function):\n",
    "    stable = False\n",
    "    value_function = initial_value_function\n",
    "    policy = {state: policy[state].copy() for state in states}\n",
    "    while not stable:\n",
    "        stable = True\n",
    "        value_function = evaluate_policy(policy, initial_value_function=value_function)\n",
    "        for state in nonterminal_states:\n",
    "            best_actions = []\n",
    "            best_value = float('-inf')\n",
    "            for action in actions:\n",
    "                value = 0\n",
    "                for new_state in states:\n",
    "                    for reward in rewards:\n",
    "                        value += p(new_state, reward, state, action) * (reward + value_function[new_state])\n",
    "                if value > best_value:\n",
    "                    best_actions = [action]\n",
    "                    best_value = value\n",
    "                elif value == best_value:\n",
    "                    best_actions.append(action)\n",
    "            new_policy_value = {action: 1 / len(best_actions) if action in best_actions else 0 for action in actions}\n",
    "            if new_policy_value != policy[state]:\n",
    "                stable = False\n",
    "                policy[state] = new_policy_value\n",
    "    return policy, value_function\n",
    "\n",
    "\n",
    "def print_2d(cells):\n",
    "    max_len = max([len(str(value)) for value in cells.values()])\n",
    "    line_strs = []\n",
    "    for y, line in enumerate(map_str.split()):\n",
    "        line_cells = []\n",
    "        for x in range(len(line)):\n",
    "            cell_value = None\n",
    "            if line[x] == 'x':\n",
    "                cell_value = max_len * '█'\n",
    "            else:\n",
    "                cell_value = str(cells[x, y])\n",
    "            line_cells.append(f'{cell_value:^{max_len}}')\n",
    "        width = max([len(other_line) for other_line in map_str.split()[r:r + 1]])\n",
    "        vertical_padding = max_len // 2\n",
    "        line_strs.append('|' + '|'.join(line_cells) + '|')\n",
    "        line_strs.append('·' + '·'.join(len(line) * [max_len * '—']) + '·')\n",
    "    line_strs.insert(0, line_strs[1][:])\n",
    "    print('\\n'.join(line_strs))"
   ]
  },
  {
   "cell_type": "code",
   "execution_count": 151,
   "metadata": {},
   "outputs": [
    {
     "name": "stdout",
     "output_type": "stream",
     "text": [
      "·————·————·————·————·————·————·————·\n",
      "| 0  |-40 |-43 |████|-269|-267|-270|\n",
      "·————·————·————·————·————·————·————·\n",
      "|-38 |-72 |████|████|████|-260|████|\n",
      "·————·————·————·————·————·————·————·\n",
      "|████|-134|-159|████|-238|-250|-250|\n",
      "·————·————·————·————·————·————·————·\n",
      "|-170|-167|-181|-204|-222|████|-248|\n",
      "·————·————·————·————·————·————·————·\n",
      "|████|-180|-191|-207|-222|-233|-242|\n",
      "·————·————·————·————·————·————·————·\n"
     ]
    }
   ],
   "source": [
    "print_2d({state: round(value) for state, value in evaluate_policy(policy, initial_value_function=initial_value_function).items()})"
   ]
  },
  {
   "cell_type": "code",
   "execution_count": 152,
   "metadata": {},
   "outputs": [],
   "source": [
    "value_function = evaluate_policy(policy, initial_value_function=initial_value_function)\n",
    "new_policy, new_value_function = improve_policy(policy, initial_value_function=initial_value_function)"
   ]
  },
  {
   "cell_type": "code",
   "execution_count": 164,
   "metadata": {},
   "outputs": [
    {
     "name": "stdout",
     "output_type": "stream",
     "text": [
      "·———·———·———·———·———·———·———·\n",
      "|   | ← | ← |███| → | ↓ | ← |\n",
      "·———·———·———·———·———·———·———·\n",
      "| ↑ | ← |███|███|███| ↓ |███|\n",
      "·———·———·———·———·———·———·———·\n",
      "|███| ↑ | ← |███| ↓ | ← | ← |\n",
      "·———·———·———·———·———·———·———·\n",
      "| → | ↑ | ← | ← | ← |███| ↓ |\n",
      "·———·———·———·———·———·———·———·\n",
      "|███| ↑ | ← | ← | ← | ← | ← |\n",
      "·———·———·———·———·———·———·———·\n",
      "·———·———·———·———·———·———·———·\n",
      "| 0 |-1 |-2 |███|-12|-11|-12|\n",
      "·———·———·———·———·———·———·———·\n",
      "|-1 |-2 |███|███|███|-10|███|\n",
      "·———·———·———·———·———·———·———·\n",
      "|███|-3 |-4 |███|-8 |-9 |-10|\n",
      "·———·———·———·———·———·———·———·\n",
      "|-5 |-4 |-5 |-6 |-7 |███|-11|\n",
      "·———·———·———·———·———·———·———·\n",
      "|███|-5 |-6 |-7 |-8 |-9 |-10|\n",
      "·———·———·———·———·———·———·———·\n"
     ]
    }
   ],
   "source": [
    "sym = {\n",
    "    'left': ' ← ',\n",
    "    'right': ' → ',\n",
    "    'up': ' ↓ ',\n",
    "    'down': ' ↑ '\n",
    "}\n",
    "print_2d({k: [sym[action] for action in actions if v[action] != 0][0] if k != (0, 0) else ' ' for k, v in new_policy.items()})\n",
    "print_2d({state: round(value) for state, value in new_value_function.items()})"
   ]
  }
 ],
 "metadata": {
  "kernelspec": {
   "display_name": "Python 3",
   "language": "python",
   "name": "python3"
  },
  "language_info": {
   "codemirror_mode": {
    "name": "ipython",
    "version": 3
   },
   "file_extension": ".py",
   "mimetype": "text/x-python",
   "name": "python",
   "nbconvert_exporter": "python",
   "pygments_lexer": "ipython3",
   "version": "3.8.3"
  }
 },
 "nbformat": 4,
 "nbformat_minor": 4
}
