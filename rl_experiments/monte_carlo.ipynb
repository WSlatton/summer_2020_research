{
 "cells": [
  {
   "cell_type": "markdown",
   "metadata": {},
   "source": [
    "# Monte-Carlo Methods"
   ]
  },
  {
   "cell_type": "markdown",
   "metadata": {},
   "source": [
    "### Example: Blackjack"
   ]
  },
  {
   "cell_type": "code",
   "execution_count": 157,
   "metadata": {},
   "outputs": [],
   "source": [
    "import random\n",
    "\n",
    "def get_policy_action(policy, state):\n",
    "    action_distribution = policy[state]\n",
    "    action = random.choices(\n",
    "            list(action_distribution.keys()),\n",
    "            action_distribution.values()\n",
    "        )[0]\n",
    "    return action\n",
    "\n",
    "card_values = {\n",
    "    '2': 2,\n",
    "    '3': 3,\n",
    "    '4': 4,\n",
    "    '5': 5,\n",
    "    '6': 6,\n",
    "    '7': 7,\n",
    "    '8': 8,\n",
    "    '9': 9,\n",
    "    '10': 10,\n",
    "    'A': 11\n",
    "}\n",
    "\n",
    "card_weights = {\n",
    "    '2': 1,\n",
    "    '3': 1,\n",
    "    '4': 1,\n",
    "    '5': 1,\n",
    "    '6': 1,\n",
    "    '7': 1,\n",
    "    '8': 1,\n",
    "    '9': 1,\n",
    "    '10': 4,\n",
    "    'A': 1\n",
    "}\n",
    "\n",
    "def draw_card():\n",
    "    cards = card_weights.keys()\n",
    "    return random.choices(list(card_weights.keys()), weights=list(card_weights.values()))[0]\n",
    "\n",
    "def simulate_episode(initial_state, initial_action, policy):\n",
    "    dealer_showing, player_sum, usable_ace = initial_state\n",
    "    dealer_hidden = draw_card()\n",
    "    is_initial = True\n",
    "    states = []\n",
    "    actions = []\n",
    "    rewards = [None]\n",
    "\n",
    "    while player_sum <= 21:\n",
    "        state = dealer_showing, player_sum, usable_ace\n",
    "        states.append(state)\n",
    "        action = None\n",
    "        \n",
    "        if is_initial:\n",
    "            action = initial_action\n",
    "            is_initial = False\n",
    "        else:\n",
    "            rewards.append(0)\n",
    "            action = get_policy_action(policy, state)\n",
    "        \n",
    "        actions.append(action)\n",
    "        \n",
    "        if action == 'stick':\n",
    "            break\n",
    "        elif action == 'hit':\n",
    "            next_card = draw_card()\n",
    "            \n",
    "            if next_card == 'A' and player_sum + 11 <= 21:\n",
    "                usable_ace = True\n",
    "            \n",
    "            player_sum += card_values[next_card]\n",
    "            \n",
    "            if player_sum > 21 and usable_ace:\n",
    "                player_sum -= 10\n",
    "                usable_ace = False\n",
    "                \n",
    "    if player_sum > 21:\n",
    "        rewards.append(-1)\n",
    "        return states, actions, rewards\n",
    "    \n",
    "    dealer_sum = card_values[dealer_showing] + card_values[dealer_hidden]\n",
    "    \n",
    "    while dealer_sum < 17:\n",
    "        next_card = draw_card()\n",
    "        dealer_sum += card_values[next_card]\n",
    "    \n",
    "    if dealer_sum <= 21 and player_sum < dealer_sum:\n",
    "        rewards.append(-1)\n",
    "    elif player_sum > dealer_sum:\n",
    "        rewards.append(1)\n",
    "    else:\n",
    "        rewards.append(0)\n",
    "    \n",
    "    return states, actions, rewards"
   ]
  },
  {
   "cell_type": "code",
   "execution_count": 161,
   "metadata": {},
   "outputs": [
    {
     "data": {
      "text/plain": [
       "([('7', 0, False), ('7', 5, False), ('7', 8, False), ('7', 18, False)],\n",
       " ['hit', 'hit', 'hit', 'stick'],\n",
       " [None, 0, 0, 0, 1])"
      ]
     },
     "execution_count": 161,
     "metadata": {},
     "output_type": "execute_result"
    }
   ],
   "source": [
    "cards = list(card_values.keys())\n",
    "nonterminal = [(dealer_showing, player_sum, usable_ace) for dealer_showing in cards for player_sum in range(22) for usable_ace in [True, False]]\n",
    "initial_policy = {}\n",
    "\n",
    "for state in nonterminal:\n",
    "    dealer_showing, player_sum, usable_ace = state\n",
    "    action = None\n",
    "    \n",
    "    if player_sum <= 17:\n",
    "        action = {'stick': 0, 'hit': 1}\n",
    "    else:\n",
    "         action = {'stick': 1, 'hit': 0}\n",
    "            \n",
    "    initial_policy[state] = action\n",
    "\n",
    "simulate_episode(('7', 0, False), 'hit', initial_policy)"
   ]
  },
  {
   "cell_type": "code",
   "execution_count": 162,
   "metadata": {},
   "outputs": [],
   "source": [
    "def argmax(f, xs):\n",
    "    max_f = float('-inf')\n",
    "    max_x = None\n",
    "    \n",
    "    for x in xs:\n",
    "        y = f(x)\n",
    "        if y > max_f:\n",
    "            max_f = y\n",
    "            max_x = x\n",
    "    \n",
    "    return max_x\n",
    "\n",
    "def monte_carlo_es(initial_policy=initial_policy, iters=10):\n",
    "    policy = initial_policy\n",
    "    action_values = defaultdict(lambda: 0)\n",
    "    times_encountered = defaultdict(lambda: 0)\n",
    "    \n",
    "    for _ in range(iters):\n",
    "        initial_state = random.choice(nonterminal)\n",
    "        initial_action = random.choice(['stick', 'hit'])\n",
    "        states, actions, rewards = simulate_episode(initial_state, initial_action, policy)\n",
    "        T = len(rewards) - 1\n",
    "        returns = 0\n",
    "        discount_factor = 1\n",
    "        \n",
    "        for t in range(T - 1, -1, -1):\n",
    "            returns = discount_factor * returns + rewards[t + 1]\n",
    "            state = states[t]\n",
    "            action = actions[t]\n",
    "            \n",
    "            if not (state, action) in list(zip(states, actions))[:t]:\n",
    "                n = times_encountered[state, action]\n",
    "                times_encountered[state, action] += 1\n",
    "                action_values[state, action] = (n * action_values[state, action] + returns) / (n + 1)\n",
    "                best_action = argmax(lambda action: action_values[state, action], ['stick', 'hit'])\n",
    "                \n",
    "                for action in ['stick', 'hit']:\n",
    "                    if action == best_action:\n",
    "                        policy[state][action] = 1\n",
    "                    else:\n",
    "                        policy[state][action] = 0\n",
    "                \n",
    "    return policy"
   ]
  },
  {
   "cell_type": "code",
   "execution_count": 189,
   "metadata": {},
   "outputs": [],
   "source": [
    "policy = monte_carlo_es(iters=1000000)"
   ]
  },
  {
   "cell_type": "code",
   "execution_count": 190,
   "metadata": {},
   "outputs": [
    {
     "data": {
      "text/plain": [
       "<matplotlib.collections.QuadMesh at 0x7f88ec7ea3a0>"
      ]
     },
     "execution_count": 190,
     "metadata": {},
     "output_type": "execute_result"
    },
    {
     "data": {
      "image/png": "[encoded data removed]",
      "text/plain": [
       "<Figure size 432x288 with 1 Axes>"
      ]
     },
     "metadata": {
      "needs_background": "light"
     },
     "output_type": "display_data"
    }
   ],
   "source": [
    "from matplotlib import pyplot as plt\n",
    "import numpy as np\n",
    "\n",
    "x = np.arange(0.5, 11.5)\n",
    "y = np.arange(-0.5, 22.5)\n",
    "z = np.zeros((22, 10))\n",
    "\n",
    "for i in range(len(x) - 1):\n",
    "    for j in range(len(y) - 1):\n",
    "        action = policy[cards[i], j, False]\n",
    "        if action['stick'] > action['hit']:\n",
    "            z[j, i] = 1\n",
    "        else:\n",
    "            z[j, i] = 0\n",
    "            \n",
    "fig, ax = plt.subplots()\n",
    "ax.pcolormesh(x, y, z)"
   ]
  },
  {
   "cell_type": "code",
   "execution_count": null,
   "metadata": {},
   "outputs": [],
   "source": []
  }
 ],
 "metadata": {
  "kernelspec": {
   "display_name": "Python 3",
   "language": "python",
   "name": "python3"
  },
  "language_info": {
   "codemirror_mode": {
    "name": "ipython",
    "version": 3
   },
   "file_extension": ".py",
   "mimetype": "text/x-python",
   "name": "python",
   "nbconvert_exporter": "python",
   "pygments_lexer": "ipython3",
   "version": "3.8.3"
  }
 },
 "nbformat": 4,
 "nbformat_minor": 4
}
