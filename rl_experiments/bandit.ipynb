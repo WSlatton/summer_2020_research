{
 "cells": [
  {
   "cell_type": "code",
   "execution_count": 84,
   "metadata": {},
   "outputs": [],
   "source": [
    "import random\n",
    "from collections import defaultdict\n",
    "import numpy as np\n",
    "from scipy.stats import norm\n",
    "\n",
    "class Environment:\n",
    "    def __init__(self, number_of_levers):\n",
    "        self.number_of_levers = number_of_levers\n",
    "        self.lever_rewards = [random.randint(0, 50) for _ in range(number_of_levers)]\n",
    "        self.actions_hist = defaultdict(lambda: 0)\n",
    "    def take_action(self, lever):\n",
    "        self.actions_hist[lever] += 1\n",
    "        expected_reward = self.lever_rewards[lever]\n",
    "        actual_reward = norm(expected_reward, 2).rvs()\n",
    "        return actual_reward\n",
    "    def possible_actions(self):\n",
    "        return list(range(self.number_of_levers))\n",
    "\n",
    "class MeanEstimator:\n",
    "    def __init__(self, default_value):\n",
    "        self.default_value = default_value\n",
    "        self.n = 0\n",
    "        self.mean = default_value\n",
    "    def value(self):\n",
    "        return self.mean\n",
    "    def update(self, sample):\n",
    "        self.mean = (self.n * self.mean + sample) / (self.n + 1)\n",
    "        self.n += 1\n",
    "    \n",
    "class ValueFunction:\n",
    "    def __init__(self):\n",
    "        self.value_estimates = defaultdict(lambda: MeanEstimator(25))\n",
    "    def update(self, lever, reward):\n",
    "        estimator = self.value_estimates[lever]\n",
    "        estimator.update(reward)\n",
    "    def estimated_value(self, lever):\n",
    "        return self.value_estimates[lever].value()\n",
    "    \n",
    "class Agent:\n",
    "    def __init__(self, environment, exploit_probability):\n",
    "        self.environment = environment\n",
    "        self.exploit_probability = exploit_probability\n",
    "        self.value_function = ValueFunction()\n",
    "    def run(self, number_of_tries):\n",
    "        rewards = np.empty(number_of_tries)\n",
    "        for i in range(number_of_tries):\n",
    "            rewards[i] = self.step()\n",
    "        return rewards\n",
    "    def step(self):\n",
    "        if random.random() < self.exploit_probability:\n",
    "            return self.exploit()\n",
    "        else:\n",
    "            return self.explore()\n",
    "    def exploit(self):\n",
    "        best_estimated_value = -1\n",
    "        best_action = None\n",
    "        \n",
    "        for action in self.environment.possible_actions():\n",
    "            estimated_value = self.value_function.estimated_value(action)\n",
    "            \n",
    "            if estimated_value > best_estimated_value:\n",
    "                best_estimated_value = estimated_value\n",
    "                best_action = action\n",
    "        \n",
    "        reward = self.environment.take_action(best_action)\n",
    "        self.value_function.update(best_action, reward)\n",
    "        return reward\n",
    "    def explore(self):\n",
    "        random_action = random.choice(self.environment.possible_actions())\n",
    "        reward = self.environment.take_action(random_action)\n",
    "        self.value_function.update(random_action, reward)\n",
    "        return reward"
   ]
  },
  {
   "cell_type": "code",
   "execution_count": 114,
   "metadata": {},
   "outputs": [],
   "source": [
    "environment = Environment(30)\n",
    "agent = Agent(environment, 0.95)"
   ]
  },
  {
   "cell_type": "code",
   "execution_count": 115,
   "metadata": {},
   "outputs": [
    {
     "data": {
      "text/plain": [
       "[<matplotlib.lines.Line2D at 0x7f00ddbf28e0>]"
      ]
     },
     "execution_count": 115,
     "metadata": {},
     "output_type": "execute_result"
    },
    {
     "data": {
      "image/png": "[encoded data removed]",
      "text/plain": [
       "<Figure size 432x288 with 2 Axes>"
      ]
     },
     "metadata": {
      "needs_background": "light"
     },
     "output_type": "display_data"
    }
   ],
   "source": [
    "from matplotlib import pyplot as plt\n",
    "number_of_trials = 2000\n",
    "rewards = agent.run(number_of_trials)\n",
    "fig, axes = plt.subplots(2)\n",
    "axes[0].hist(rewards, bins=20)\n",
    "window_size = 50\n",
    "filtered_rewards = np.convolve(rewards, np.ones(window_size) / window_size, 'valid')\n",
    "axes[1].plot(filtered_rewards)"
   ]
  },
  {
   "cell_type": "code",
   "execution_count": 116,
   "metadata": {},
   "outputs": [
    {
     "data": {
      "image/png": "[encoded data removed]",
      "text/plain": [
       "<Figure size 432x288 with 1 Axes>"
      ]
     },
     "metadata": {
      "needs_background": "light"
     },
     "output_type": "display_data"
    }
   ],
   "source": [
    "estimation_errors = [abs(agent.value_function.estimated_value(lever) - environment.lever_rewards[lever])\n",
    "                     for lever in range(environment.number_of_levers)]\n",
    "plt.figure()\n",
    "plt.hist(estimation_errors)\n",
    "plt.show()"
   ]
  },
  {
   "cell_type": "code",
   "execution_count": 117,
   "metadata": {},
   "outputs": [
    {
     "data": {
      "text/plain": [
       "0.7917968106484923"
      ]
     },
     "execution_count": 117,
     "metadata": {},
     "output_type": "execute_result"
    }
   ],
   "source": [
    "np.mean(estimation_errors)"
   ]
  },
  {
   "cell_type": "code",
   "execution_count": 118,
   "metadata": {},
   "outputs": [
    {
     "data": {
      "text/plain": [
       "<BarContainer object of 30 artists>"
      ]
     },
     "execution_count": 118,
     "metadata": {},
     "output_type": "execute_result"
    },
    {
     "data": {
      "image/png": "[encoded data removed]",
      "text/plain": [
       "<Figure size 432x288 with 1 Axes>"
      ]
     },
     "metadata": {
      "needs_background": "light"
     },
     "output_type": "display_data"
    }
   ],
   "source": [
    "plt.bar(environment.actions_hist.keys(), environment.actions_hist.values(), log=10)"
   ]
  }
 ],
 "metadata": {
  "kernelspec": {
   "display_name": "Python 3",
   "language": "python",
   "name": "python3"
  },
  "language_info": {
   "codemirror_mode": {
    "name": "ipython",
    "version": 3
   },
   "file_extension": ".py",
   "mimetype": "text/x-python",
   "name": "python",
   "nbconvert_exporter": "python",
   "pygments_lexer": "ipython3",
   "version": "3.8.3"
  }
 },
 "nbformat": 4,
 "nbformat_minor": 4
}
