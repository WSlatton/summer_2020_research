{
 "cells": [
  {
   "cell_type": "code",
   "execution_count": 1,
   "metadata": {},
   "outputs": [],
   "source": [
    "import torch.nn.functional as F\n",
    "import torch.nn as nn\n",
    "import torch\n",
    "\n",
    "def t(x):\n",
    "    return torch.tensor(x, dtype=torch.float)\n",
    "\n",
    "class CriticNet(nn.Module):\n",
    "    def __init__(self):\n",
    "        super().__init__()\n",
    "        \n",
    "        self.fc1 = nn.Linear(4, 64)\n",
    "        self.fc2 = nn.Linear(64, 32)\n",
    "        self.fc3 = nn.Linear(32, 1)\n",
    "    \n",
    "    def forward(self, x):\n",
    "        x = F.relu(self.fc1(x))\n",
    "        x = F.relu(self.fc2(x))\n",
    "        x = self.fc3(x)\n",
    "        return x\n",
    "\n",
    "class Critic:\n",
    "    def __init__(self, learning_rate, trace_decay_rate):\n",
    "        self.learning_rate = learning_rate\n",
    "        self.trace_decay_rate = trace_decay_rate\n",
    "        self.critic_net = critic_net\n",
    "    \n",
    "    def episode_start(self):\n",
    "        self.critic_net.zero_grad()\n",
    "    \n",
    "    def step(self, previous_state, state, reward, done):\n",
    "        previous_state_value = self.critic_net(t(previous_state))\n",
    "        state_value = 0 if done else self.critic_net(t(state))\n",
    "        td_error = reward + state_value - previous_state_value"
   ]
  },
  {
   "cell_type": "code",
   "execution_count": null,
   "metadata": {},
   "outputs": [],
   "source": []
  }
 ],
 "metadata": {
  "kernelspec": {
   "display_name": "Python 3",
   "language": "python",
   "name": "python3"
  },
  "language_info": {
   "codemirror_mode": {
    "name": "ipython",
    "version": 3
   },
   "file_extension": ".py",
   "mimetype": "text/x-python",
   "name": "python",
   "nbconvert_exporter": "python",
   "pygments_lexer": "ipython3",
   "version": "3.8.5"
  }
 },
 "nbformat": 4,
 "nbformat_minor": 4
}
