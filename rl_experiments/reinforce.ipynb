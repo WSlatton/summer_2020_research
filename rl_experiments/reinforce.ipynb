{
 "cells": [
  {
   "cell_type": "markdown",
   "metadata": {},
   "source": [
    "# Monte-Carlo Policy Gradient Algorithm: REINFORCE"
   ]
  },
  {
   "cell_type": "markdown",
   "metadata": {},
   "source": [
    "### Short corridor with switched actions"
   ]
  },
  {
   "cell_type": "code",
   "execution_count": 13,
   "metadata": {},
   "outputs": [],
   "source": [
    "import gym\n",
    "\n",
    "class SCSA(gym.Env):\n",
    "    def __init__(self):\n",
    "        self.action_space = gym.spaces.Discrete(2)\n",
    "        self.observation_space = gym.spaces.Discrete(4)\n",
    "        self.state = 0\n",
    "    \n",
    "    def step(self, action):\n",
    "        if self.state == 0:\n",
    "            if action == 0:\n",
    "                self.state = 0\n",
    "            elif action == 1:\n",
    "                self.state = 1\n",
    "        elif self.state == 1:\n",
    "            if action == 0:\n",
    "                self.state = 2\n",
    "            elif action == 1:\n",
    "                self.state = 0\n",
    "        elif self.state == 2:\n",
    "            if action == 0:\n",
    "                self.state = 3\n",
    "            elif action == 1:\n",
    "                self.state = 1\n",
    "        \n",
    "        observation = self.state\n",
    "        reward = -1\n",
    "        done = self.state == 3\n",
    "        info = None\n",
    "        \n",
    "        return observation, reward, done, info\n",
    "    \n",
    "    def reset(self):\n",
    "        self.state = 0\n",
    "        observation = self.state\n",
    "        return observation"
   ]
  },
  {
   "cell_type": "markdown",
   "metadata": {},
   "source": [
    "### Policy Gradient Calculation"
   ]
  },
  {
   "cell_type": "markdown",
   "metadata": {},
   "source": [
    "We are using softmax on preference scores for action selection, so we have\n",
    "$$\\pi(a | s, \\theta) = \\frac{\\exp(h(s, a, \\theta))}{\\sum_{a'} \\exp(h(s, a', \\theta))}\\,$$\n",
    "where the $h(s, a, \\theta)$ are the preference scores.\n",
    "\n",
    "Each preference score is linear in the feature vector $x$, so we have\n",
    "$$h(s, a, \\theta) = \\theta^\\top x(s, a).$$\n",
    "\n",
    "Thus, we have\n",
    "$$\\nabla_\\theta \\pi(a | s, \\theta) = \\pi(a | s, \\theta) \\nabla_\\theta h(s, a, \\theta) - \\pi(a | s, \\theta) \\frac{\\sum_{a'} \\exp(h(s, a', \\theta)) \\nabla_\\theta h(s, a', \\theta)}{\\sum_{a'} \\exp(h(s, a', \\theta))}.$$\n",
    "\n",
    "Substituting\n",
    "$$\\nabla_\\theta h(s, a, \\theta) = x(s, a),$$\n",
    "we obtain\n",
    "$$\\nabla_\\theta \\pi(a | s, \\theta) = \\pi(a | s, \\theta) \\frac{\\sum_{a'} \\exp(h(s, a', \\theta)) (x(s, a) - x(s, a'))}{\\sum_{a'} \\exp(h(s, a', \\theta))}.$$"
   ]
  },
  {
   "cell_type": "markdown",
   "metadata": {},
   "source": [
    "### REINFORCE"
   ]
  },
  {
   "cell_type": "code",
   "execution_count": 126,
   "metadata": {},
   "outputs": [],
   "source": [
    "import random\n",
    "import numpy as np\n",
    "\n",
    "env = SCSA()\n",
    "θ = np.array([0.5, 0.5])\n",
    "α = pow(2, -13)\n",
    "A = np.array([0, 1])\n",
    "\n",
    "def x(s, a):\n",
    "    if a == 0:\n",
    "        return np.array([1, 0])\n",
    "    elif a == 1:\n",
    "        return np.array([0, 1])\n",
    "    \n",
    "def h(s, a, θ):\n",
    "        return np.dot(x(s, a), θ)\n",
    "\n",
    "def π(a, s, θ):\n",
    "    return np.exp(h(s, a, θ)) / np.sum(np.exp([h(s, a_, θ) for a_ in A]))\n",
    "\n",
    "def π_grad(a, s, θ):\n",
    "    return π(a, s, θ) * np.sum([np.exp(h(s, a_, θ)) * (x(s, a) - x(s, a_)) for a_ in A], axis=0) / np.sum([np.exp(h(s, a_, θ)) for a_ in A])\n",
    "    \n",
    "def choose_action(observation, θ):\n",
    "    actions = [0, 1]\n",
    "    ps = [π(a, observation, θ) for a in A]\n",
    "    action = random.choices(\n",
    "        actions,\n",
    "        weights=ps\n",
    "    )[0]\n",
    "    return action\n",
    "\n",
    "def train_episode(env, θ, α):\n",
    "    observation = env.reset()\n",
    "    S = [observation]\n",
    "    A = []\n",
    "    R = []\n",
    "    \n",
    "    while True:\n",
    "        action = choose_action(observation, θ)\n",
    "        observation, reward, done, info = env.step(action)\n",
    "        S.append(observation)\n",
    "        A.append(action)\n",
    "        R.append(reward)\n",
    "        \n",
    "        if done:\n",
    "            break\n",
    "            \n",
    "    T = len(S) - 1\n",
    "    G = 0\n",
    "    \n",
    "    for t in range(T - 1, -1, -1):\n",
    "        G += R[t]\n",
    "        θ += α * G * π_grad(A[t], S[t], θ) / π(A[t], S[t], θ)\n",
    "    \n",
    "    return θ\n",
    "\n",
    "def train(env, θ, α, num_episodes):\n",
    "    for epoch in range(num_episodes):\n",
    "        θ = train_episode(env, θ, α)\n",
    "        \n",
    "    return θ"
   ]
  },
  {
   "cell_type": "code",
   "execution_count": 136,
   "metadata": {},
   "outputs": [],
   "source": [
    "def eval_episode(env, θ):\n",
    "    score = 0\n",
    "    observation = env.reset()\n",
    "    \n",
    "    while True:\n",
    "        action = choose_action(observation, θ)\n",
    "        observation, reward, done, info = env.step(action)\n",
    "        score += reward\n",
    "        \n",
    "        if done:\n",
    "            break\n",
    "    \n",
    "    return score\n",
    "\n",
    "def eval(env, θ, num_episodes=100):\n",
    "    total = 0\n",
    "    \n",
    "    for epoch in range(num_episodes):\n",
    "        total += eval_episode(env, θ)\n",
    "    \n",
    "    return total / num_episodes"
   ]
  },
  {
   "cell_type": "code",
   "execution_count": 155,
   "metadata": {},
   "outputs": [],
   "source": [
    "xs = np.arange(0, 1000, 50)\n",
    "ys = np.zeros(len(xs))\n",
    "episode = 0\n",
    "θ = np.array([4.0, 0])\n",
    "\n",
    "for j in range(len(xs)):\n",
    "    delta_episodes = xs[j] - episode\n",
    "    θ = train(env, θ, α, delta_episodes)\n",
    "    ys[j] = eval(env, θ)"
   ]
  },
  {
   "cell_type": "code",
   "execution_count": 156,
   "metadata": {},
   "outputs": [
    {
     "data": {
      "text/plain": [
       "[<matplotlib.lines.Line2D at 0x7f080c13edf0>]"
      ]
     },
     "execution_count": 156,
     "metadata": {},
     "output_type": "execute_result"
    },
    {
     "data": {
      "image/png": "[encoded data removed]",
      "text/plain": [
       "<Figure size 432x288 with 1 Axes>"
      ]
     },
     "metadata": {
      "needs_background": "light"
     },
     "output_type": "display_data"
    }
   ],
   "source": [
    "import matplotlib.pyplot as plt\n",
    "plt.plot(xs, ys)"
   ]
  },
  {
   "cell_type": "code",
   "execution_count": 157,
   "metadata": {},
   "outputs": [
    {
     "data": {
      "text/plain": [
       "0.7048156952052697"
      ]
     },
     "execution_count": 157,
     "metadata": {},
     "output_type": "execute_result"
    }
   ],
   "source": [
    "π(0, 0, θ)"
   ]
  }
 ],
 "metadata": {
  "kernelspec": {
   "display_name": "Python 3",
   "language": "python",
   "name": "python3"
  },
  "language_info": {
   "codemirror_mode": {
    "name": "ipython",
    "version": 3
   },
   "file_extension": ".py",
   "mimetype": "text/x-python",
   "name": "python",
   "nbconvert_exporter": "python",
   "pygments_lexer": "ipython3",
   "version": "3.8.5"
  }
 },
 "nbformat": 4,
 "nbformat_minor": 4
}
