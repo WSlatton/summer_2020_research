{
 "cells": [
  {
   "cell_type": "code",
   "execution_count": 1,
   "metadata": {},
   "outputs": [],
   "source": [
    "class Environment:\n",
    "    actions = ['left', 'right', 'up', 'down']\n",
    "    \n",
    "    def __init__(self, rows, columns, start, goal, column_wind_speeds):\n",
    "        # coordinate origin at top left\n",
    "        self.rows = rows\n",
    "        self.columns = columns\n",
    "        self.start = start\n",
    "        self.goal = goal\n",
    "        self.column_wind_speeds = column_wind_speeds\n",
    "        self.terminal_states = [goal] \n",
    "        self.reset()\n",
    "        \n",
    "    def reset(self):\n",
    "        self.state = self.start\n",
    "        \n",
    "    def done(self):\n",
    "        return self.state in self.terminal_states\n",
    "    \n",
    "    def take_action(self, action):\n",
    "        \"\"\"Take action and return (reward, new_state)\"\"\"\n",
    "        row, column = self.state\n",
    "        assert 0 <= row < self.rows and 0 <= column < self.columns\n",
    "        assert action in self.actions\n",
    "        \n",
    "        new_row = row\n",
    "        new_column = column\n",
    "        \n",
    "        if action == 'left':\n",
    "            new_column -= 1\n",
    "        elif action == 'right':\n",
    "            new_column += 1\n",
    "        elif action == 'up':\n",
    "            new_row -= 1\n",
    "        elif action == 'down':\n",
    "            new_row += 1\n",
    "        \n",
    "        new_row -= self.column_wind_speeds[column]\n",
    "        new_row = max(0, min(self.rows - 1, new_row))\n",
    "        new_column = max(0, min(self.columns - 1, new_column))\n",
    "        \n",
    "        new_state = new_row, new_column\n",
    "        self.state = new_state\n",
    "        reward = -1\n",
    "        return reward, new_state"
   ]
  },
  {
   "cell_type": "code",
   "execution_count": 2,
   "metadata": {},
   "outputs": [],
   "source": [
    "import matplotlib.pyplot as plt\n",
    "import numpy as np\n",
    "\n",
    "def plot_trajectory(environment, trajectory):\n",
    "    plt.figure()\n",
    "    fig, axes = plt.subplots()\n",
    "    axes.set_xlim([-0.5, environment.columns - 0.5])\n",
    "    axes.xaxis.set_ticks(np.arange(-0.5, environment.columns - 0.5))\n",
    "    axes.xaxis.set_ticklabels([])\n",
    "    axes.set_ylim([environment.rows - 0.5, -0.5])\n",
    "    axes.yaxis.set_ticks(np.arange(-0.5, environment.rows - 0.5))\n",
    "    axes.yaxis.set_ticklabels([])\n",
    "    axes.grid()\n",
    "    axes.add_artist(plt.Circle(environment.start[::-1], 0.2, color='g'))\n",
    "    axes.add_artist(plt.Circle(environment.goal[::-1], 0.2, color='r'))\n",
    "    axes.plot([c[1] for c in trajectory], [c[0] for c in trajectory])"
   ]
  },
  {
   "cell_type": "code",
   "execution_count": 23,
   "metadata": {},
   "outputs": [],
   "source": [
    "class DumbAgent:\n",
    "    def get_action(self, action, previous_state, current_state, reward):\n",
    "        return 'right'\n",
    "\n",
    "def simulate_episode(environment, agent, max_steps=float('inf'), plot=False):\n",
    "    environment.reset()\n",
    "    trajectory = [environment.state]\n",
    "    steps = 0\n",
    "    \n",
    "    reward = 0\n",
    "    total_reward = 0\n",
    "    action = None\n",
    "    previous_state = None\n",
    "    while not environment.done() and steps <= max_steps:\n",
    "        action = agent.get_action(action, previous_state, environment.state, reward)\n",
    "        previous_state = environment.state\n",
    "        reward, _ = environment.take_action(action)\n",
    "        total_reward += reward\n",
    "        \n",
    "        if plot:\n",
    "            trajectory.append(environment.state)\n",
    "            \n",
    "        steps += 1\n",
    "    \n",
    "    if plot:\n",
    "        plot_trajectory(environment, trajectory)\n",
    "    \n",
    "    return total_reward"
   ]
  },
  {
   "cell_type": "code",
   "execution_count": 24,
   "metadata": {},
   "outputs": [
    {
     "data": {
      "text/plain": [
       "-101"
      ]
     },
     "execution_count": 24,
     "metadata": {},
     "output_type": "execute_result"
    },
    {
     "data": {
      "text/plain": [
       "<Figure size 432x288 with 0 Axes>"
      ]
     },
     "metadata": {},
     "output_type": "display_data"
    },
    {
     "data": {
      "image/png": "[encoded data removed]",
      "text/plain": [
       "<Figure size 432x288 with 1 Axes>"
      ]
     },
     "metadata": {
      "needs_background": "light"
     },
     "output_type": "display_data"
    }
   ],
   "source": [
    "environment = Environment(7, 10, (3, 0), (3, 7), [0, 0, 0, 1, 1, 1, 2, 2, 1, 0])\n",
    "agent = DumbAgent()\n",
    "simulate_episode(environment, agent, max_steps=100, plot=True)"
   ]
  },
  {
   "cell_type": "code",
   "execution_count": 25,
   "metadata": {},
   "outputs": [],
   "source": [
    "from collections import defaultdict\n",
    "import random\n",
    "\n",
    "class SARSA_Agent:\n",
    "    def __init__(self, alpha, gamma, epsilon, environment):\n",
    "        \"\"\"Epsilon-greedy SARSA agent with learning rate alpha\"\"\"\n",
    "        self.alpha = alpha\n",
    "        self.gamma = gamma\n",
    "        self.epsilon = epsilon\n",
    "        self.environment = environment\n",
    "        self.action_values = defaultdict(lambda: 0)\n",
    "    \n",
    "    def epsilon_greedy_action(self, state):\n",
    "        actions = self.environment.actions\n",
    "        \n",
    "        if random.random() < self.epsilon:\n",
    "            # explore\n",
    "            return random.choice(actions)\n",
    "        else:\n",
    "            # exploit\n",
    "            best_actions = []\n",
    "            best_action_value = float('-inf')\n",
    "            \n",
    "            for action in actions:\n",
    "                action_value = self.action_values[state, action]\n",
    "                if action_value > best_action_value:\n",
    "                    best_actions = [action]\n",
    "                    best_action_value = action_value\n",
    "                elif action_value == best_action_value:\n",
    "                    best_actions.append(action)\n",
    "            \n",
    "            return random.choice(best_actions)\n",
    "    \n",
    "    def get_action(self, action, previous_state, current_state, reward):\n",
    "        next_action = self.epsilon_greedy_action(current_state)\n",
    "        \n",
    "        if action != None:\n",
    "            # update action values if this is not the first step in the episode\n",
    "            self.action_values[previous_state, action] += self.alpha * (\n",
    "                reward + self.gamma * self.action_values[current_state, next_action] -\n",
    "                self.action_values[previous_state, action]\n",
    "            )\n",
    "        return next_action"
   ]
  },
  {
   "cell_type": "code",
   "execution_count": 30,
   "metadata": {},
   "outputs": [],
   "source": [
    "environment = Environment(7, 10, (3, 0), (3, 7), [0, 0, 0, 1, 1, 1, 2, 2, 1, 0])\n",
    "agent = SARSA_Agent(0.5, 1, 0.1, environment)"
   ]
  },
  {
   "cell_type": "code",
   "execution_count": 31,
   "metadata": {},
   "outputs": [
    {
     "data": {
      "text/plain": [
       "[<matplotlib.lines.Line2D at 0x7f19fcc1c7f0>]"
      ]
     },
     "execution_count": 31,
     "metadata": {},
     "output_type": "execute_result"
    },
    {
     "data": {
      "image/png": "[encoded data removed]",
      "text/plain": [
       "<Figure size 432x288 with 1 Axes>"
      ]
     },
     "metadata": {
      "needs_background": "light"
     },
     "output_type": "display_data"
    }
   ],
   "source": [
    "steps = 0\n",
    "xs = []\n",
    "ys = []\n",
    "\n",
    "for episode in range(200):\n",
    "    xs.append(steps)\n",
    "    ys.append(episode)\n",
    "    total_reward = simulate_episode(environment, agent)\n",
    "    steps -= total_reward\n",
    "\n",
    "plt.plot(xs, ys)"
   ]
  },
  {
   "cell_type": "code",
   "execution_count": 20,
   "metadata": {},
   "outputs": [
    {
     "data": {
      "text/plain": [
       "<Figure size 432x288 with 0 Axes>"
      ]
     },
     "metadata": {},
     "output_type": "display_data"
    },
    {
     "data": {
      "image/png": "[encoded data removed]",
      "text/plain": [
       "<Figure size 432x288 with 1 Axes>"
      ]
     },
     "metadata": {
      "needs_background": "light"
     },
     "output_type": "display_data"
    }
   ],
   "source": [
    "simulate_episode(environment, agent, plot=True)"
   ]
  }
 ],
 "metadata": {
  "kernelspec": {
   "display_name": "Python 3",
   "language": "python",
   "name": "python3"
  },
  "language_info": {
   "codemirror_mode": {
    "name": "ipython",
    "version": 3
   },
   "file_extension": ".py",
   "mimetype": "text/x-python",
   "name": "python",
   "nbconvert_exporter": "python",
   "pygments_lexer": "ipython3",
   "version": "3.8.5"
  }
 },
 "nbformat": 4,
 "nbformat_minor": 4
}
