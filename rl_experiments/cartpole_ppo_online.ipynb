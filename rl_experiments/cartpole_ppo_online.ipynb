{
 "cells": [
  {
   "cell_type": "code",
   "execution_count": 80,
   "metadata": {},
   "outputs": [],
   "source": [
    "import numpy as np\n",
    "import torch\n",
    "import gym\n",
    "from torch import nn\n",
    "from torch.nn import functional as F\n",
    "import matplotlib.pyplot as plt\n",
    "from torch.utils import tensorboard"
   ]
  },
  {
   "cell_type": "code",
   "execution_count": 81,
   "metadata": {},
   "outputs": [],
   "source": [
    "# helper function to convert numpy arrays to tensors\n",
    "def t(x):\n",
    "    return torch.tensor(x, dtype=torch.float)"
   ]
  },
  {
   "cell_type": "code",
   "execution_count": 82,
   "metadata": {},
   "outputs": [],
   "source": [
    "# Critic module\n",
    "class CriticNet(nn.Module):\n",
    "    def __init__(self):\n",
    "        super().__init__()\n",
    "        self.fc1 = nn.Linear(4, 64)\n",
    "        self.fc2 = nn.Linear(64, 32)\n",
    "        self.fc3 = nn.Linear(32, 1)\n",
    "    \n",
    "    def forward(self, x):\n",
    "        x = F.relu(self.fc1(x))\n",
    "        x = F.relu(self.fc2(x))\n",
    "        x = self.fc3(x)\n",
    "        return x"
   ]
  },
  {
   "cell_type": "code",
   "execution_count": 83,
   "metadata": {},
   "outputs": [],
   "source": [
    "env = gym.make(\"CartPole-v1\")"
   ]
  },
  {
   "cell_type": "code",
   "execution_count": 84,
   "metadata": {},
   "outputs": [],
   "source": [
    "critic_net = CriticNet()\n",
    "critic_optim = torch.optim.SGD(critic_net.parameters(), lr=1e-3)"
   ]
  },
  {
   "cell_type": "code",
   "execution_count": 90,
   "metadata": {},
   "outputs": [],
   "source": [
    "w = tensorboard.SummaryWriter()\n",
    "\n",
    "for i in range(4000):\n",
    "    done = False\n",
    "    previous_state = env.reset()\n",
    "\n",
    "    while not done:\n",
    "        #probs = actor(t(state))\n",
    "        #dist = torch.distributions.Categorical(probs=probs)\n",
    "        #action = dist.sample()\n",
    "        #prob_act = dist.log_prob(action)\n",
    "        action = 0 #env.action_space.sample()\n",
    "        \n",
    "        #next_state, reward, done, info = env.step(action.detach().data.numpy())\n",
    "        state, reward, done, info = env.step(action)\n",
    "        advantage = reward + critic_net(t(state)).detach() - critic_net(t(previous_state))\n",
    "        \n",
    "        #w.add_scalar(\"loss/advantage\", advantage, global_step=s)\n",
    "        #w.add_scalar(\"actions/action_0_prob\", dist.probs[0], global_step=s)\n",
    "        #w.add_scalar(\"actions/action_1_prob\", dist.probs[1], global_step=s)\n",
    "        \n",
    "        total_reward += reward\n",
    "        previous_state = state\n",
    "        \n",
    "        critic_loss = advantage.pow(2).mean()\n",
    "            \n",
    "        if done:\n",
    "            w.add_scalar(\"loss/critic_loss\", critic_loss, global_step=i)\n",
    "                \n",
    "        critic_optim.zero_grad()\n",
    "        critic_loss.backward()\n",
    "        critic_optim.step()"
   ]
  },
  {
   "cell_type": "code",
   "execution_count": null,
   "metadata": {},
   "outputs": [],
   "source": []
  }
 ],
 "metadata": {
  "kernelspec": {
   "display_name": "Python 3",
   "language": "python",
   "name": "python3"
  },
  "language_info": {
   "codemirror_mode": {
    "name": "ipython",
    "version": 3
   },
   "file_extension": ".py",
   "mimetype": "text/x-python",
   "name": "python",
   "nbconvert_exporter": "python",
   "pygments_lexer": "ipython3",
   "version": "3.8.5"
  }
 },
 "nbformat": 4,
 "nbformat_minor": 4
}
